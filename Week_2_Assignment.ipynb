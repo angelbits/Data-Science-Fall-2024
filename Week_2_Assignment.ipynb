{
  "nbformat": 4,
  "nbformat_minor": 0,
  "metadata": {
    "colab": {
      "provenance": [],
      "authorship_tag": "ABX9TyP3pwfwVRoCf3cER3MQA6DW"
    },
    "kernelspec": {
      "name": "python3",
      "display_name": "Python 3"
    },
    "language_info": {
      "name": "python"
    }
  },
  "cells": [
    {
      "cell_type": "code",
      "execution_count": null,
      "metadata": {
        "id": "564cdYWvlb1g"
      },
      "outputs": [],
      "source": []
    },
    {
      "cell_type": "markdown",
      "metadata": {
        "id": "ky7lGSRhopli"
      },
      "source": [
        "## Practice Questions for numpy\n",
        "1. Define two custom numpy arrays, say A and B. Generate two new numpy arrays by stacking A and B vertically and horizontally.\n",
        "2. Find common elements between A and B. [Hint : Intersection of two sets]\n",
        "3. Extract all numbers from A which are within a specific range. eg between 5 and 10. [Hint: np.where() might be useful or boolean masks]\n",
        "4. Filter the rows of iris_2d that has petallength (3rd column) > 1.5 and sepallength (1st column) < 5.0\n",
        "```\n",
        "url = 'https://archive.ics.uci.edu/ml/machine-learning-databases/iris/iris.data'\n",
        "iris_2d = np.genfromtxt(url, delimiter=',', dtype='float', usecols=[0,1,2,3])\n",
        "```"
      ]
    },
    {
      "cell_type": "markdown",
      "source": [
        "Answers:\n",
        "1. Define two custom numpy arrays, say A and B. Generate two new numpy arrays by stacking A and B vertically and horizontally."
      ],
      "metadata": {
        "id": "5YZ7REhIT0wV"
      }
    },
    {
      "cell_type": "code",
      "source": [
        "a = np.array([1, 2, 4])\n",
        "b = np.array([4, 5, 6])\n",
        "\n",
        "#vertical stack\n",
        "v_stack = np.vstack((a,b))\n",
        "print(v_stack)\n",
        "\n",
        "#horizontal stack\n",
        "h_stack = np.hstack((a, b))\n",
        "print(h_stack)"
      ],
      "metadata": {
        "id": "QJ4-BiwZT6a2"
      },
      "execution_count": null,
      "outputs": []
    },
    {
      "cell_type": "markdown",
      "source": [
        "Answer: 2. Find common elements between A and B. [Hint : Intersection of two sets]\n"
      ],
      "metadata": {
        "id": "HvGwfNbuU3M4"
      }
    },
    {
      "cell_type": "code",
      "source": [
        "print(np.intersect1d(a,b))"
      ],
      "metadata": {
        "id": "dpyza5OPU59Z"
      },
      "execution_count": null,
      "outputs": []
    },
    {
      "cell_type": "markdown",
      "source": [
        "Answer:\n",
        "3. Extract all numbers from A which are within a specific range. eg between 5 and 10. [Hint: np.where() might be useful or boolean masks]\n"
      ],
      "metadata": {
        "id": "4w3Mby09U6UT"
      }
    },
    {
      "cell_type": "code",
      "source": [
        "index = np.where((a >= 2) & (a <= 5)) #pulls the index/indices that meets criteria\n",
        "print(a[index]) #pulls the value of the index/indices"
      ],
      "metadata": {
        "id": "mAf4ph3PU9F5"
      },
      "execution_count": null,
      "outputs": []
    },
    {
      "cell_type": "markdown",
      "source": [
        "Answer:\n",
        "4. Filter the rows of iris_2d that has petallength (3rd column) > 1.5 and sepallength (1st column) < 5.0"
      ],
      "metadata": {
        "id": "J0jSaAo2U9dK"
      }
    },
    {
      "cell_type": "code",
      "source": [
        "url = 'https://archive.ics.uci.edu/ml/machine-learning-databases/iris/iris.data'\n",
        "iris_2d = np.genfromtxt(url, delimiter=',', dtype='float', usecols=[0,1,2,3])\n",
        "iris_2d[0:5]\n",
        "filtered = iris_2d[(iris_2d[:, 2] > 1.5) & (iris_2d[:, 0] < 5.0)] #pulls values\n",
        "print(filtered)\n",
        "filtered2 = np.where((iris_2d[:, 2] > 1.5) & (iris_2d[:, 0] < 5.0))#np.where pulls indices\n",
        "print(filtered2)\n",
        "iris_2d[filtered2] # pulls values from an index array"
      ],
      "metadata": {
        "id": "SwAeLbz3U_su"
      },
      "execution_count": null,
      "outputs": []
    },
    {
      "cell_type": "markdown",
      "metadata": {
        "id": "nTFFs5kyw0GO"
      },
      "source": [
        "## Practice Questions for Pandas\n",
        "\n",
        "1. From df filter the 'Manufacturer', 'Model' and 'Type' for every 20th row starting from 1st (row 0).\n",
        "\n",
        "```\n",
        "df = pd.read_csv('https://raw.githubusercontent.com/selva86/datasets/master/Cars93_miss.csv')\n",
        "```\n",
        "\n",
        "2. Replace missing values in Min.Price and Max.Price columns with their respective mean.\n",
        "\n",
        "```\n",
        "df = pd.read_csv('https://raw.githubusercontent.com/selva86/datasets/master/Cars93_miss.csv')\n",
        "```\n",
        "\n",
        "3. How to get the rows of a dataframe with row sum > 100?\n",
        "\n",
        "```\n",
        "df = pd.DataFrame(np.random.randint(10, 40, 60).reshape(-1, 4))\n",
        "```"
      ]
    },
    {
      "cell_type": "markdown",
      "source": [
        "Answer: 1. From df filter the 'Manufacturer', 'Model' and 'Type' for every 20th row starting from 1st (row 0).\n",
        "\n",
        "```\n",
        "df = pd.read_csv('https://raw.githubusercontent.com/selva86/datasets/master/Cars93_miss.csv')\n",
        "```\n",
        "\n"
      ],
      "metadata": {
        "id": "n09lgQS9b0Ns"
      }
    },
    {
      "cell_type": "code",
      "source": [
        "df = pd.read_csv('https://raw.githubusercontent.com/selva86/datasets/master/Cars93_miss.csv')\n",
        "df.head()\n",
        "df_filter = df.iloc[::20, :][['Manufacturer', 'Model', 'Type']] #slice by rows, all rows, every 20\n",
        "#df_filter2 = df.iloc[::20, [0,1,2]] #different way to achieve same result, using the column index rather than name\n",
        "df_filter\n",
        "#df_filter2"
      ],
      "metadata": {
        "id": "48eVip_acEA-"
      },
      "execution_count": null,
      "outputs": []
    },
    {
      "cell_type": "markdown",
      "source": [
        "Answer: 2. Replace missing values in Min.Price and Max.Price columns with their respective mean.\n",
        "\n",
        "```\n",
        "df = pd.read_csv('https://raw.githubusercontent.com/selva86/datasets/master/Cars93_miss.csv')\n",
        "```"
      ],
      "metadata": {
        "id": "2jRsowvxb6qc"
      }
    },
    {
      "cell_type": "code",
      "source": [
        "df = pd.read_csv('https://raw.githubusercontent.com/selva86/datasets/master/Cars93_miss.csv')\n",
        "\n",
        "#df['Min.Price']=df['Min.Price'].fillna(df['Min.Price'].mean()) #filling one column at a time\n",
        "#df['Max.Price']=df['Max.Price'].fillna(df['Max.Price'].mean())\n",
        "#df.head()\n",
        "\n",
        "df_filled = df.fillna({'Min.Price': df['Min.Price'].mean(), 'Max.Price': df['Max.Price'].mean()}) #passing in a dictionary to the dataframe\n",
        "\n",
        "\n",
        "\n",
        "\n"
      ],
      "metadata": {
        "id": "r8O-kQPDfLd4"
      },
      "execution_count": null,
      "outputs": []
    },
    {
      "cell_type": "markdown",
      "source": [
        "\n",
        "Answer: 3. How to get the rows of a dataframe with row sum > 100?\n",
        "\n",
        "```\n",
        "df = pd.DataFrame(np.random.randint(10, 40, 60).reshape(-1, 4))\n",
        "```"
      ],
      "metadata": {
        "id": "ELoclUSEcAfY"
      }
    },
    {
      "cell_type": "code",
      "source": [
        "df = pd.DataFrame(np.random.randint(10, 40, 60).reshape(-1, 4))\n",
        "df.head()"
      ],
      "metadata": {
        "id": "i56TSOSuifA0"
      },
      "execution_count": null,
      "outputs": []
    },
    {
      "cell_type": "code",
      "source": [
        "rows = df[df.sum(axis=1) > 100] #returns the rows with sum > 100\n",
        "rows"
      ],
      "metadata": {
        "id": "6efVJLpFkK-4"
      },
      "execution_count": null,
      "outputs": []
    },
    {
      "cell_type": "code",
      "source": [
        "rows.index #returns the row numbers/indeces"
      ],
      "metadata": {
        "id": "U5ZiwGhqkQYh"
      },
      "execution_count": null,
      "outputs": []
    }
  ]
}